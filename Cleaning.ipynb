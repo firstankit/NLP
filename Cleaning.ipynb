{
 "cells": [
  {
   "cell_type": "markdown",
   "id": "77d16e73",
   "metadata": {},
   "source": [
    "# Html Tags"
   ]
  },
  {
   "cell_type": "code",
   "execution_count": 1,
   "id": "f9f841e5",
   "metadata": {},
   "outputs": [],
   "source": [
    "text1 = '<p>Do not forget<h2> to buy <mark>milk</mark> today.</p>'"
   ]
  },
  {
   "cell_type": "code",
   "execution_count": 2,
   "id": "bf119517",
   "metadata": {},
   "outputs": [],
   "source": [
    "import re"
   ]
  },
  {
   "cell_type": "code",
   "execution_count": 3,
   "id": "a9e67e7e",
   "metadata": {},
   "outputs": [],
   "source": [
    "def striphtml(data):\n",
    "    p = re.compile(r'<.*?>')\n",
    "    return p.sub('',data)"
   ]
  },
  {
   "cell_type": "code",
   "execution_count": 4,
   "id": "0a4f5d69",
   "metadata": {},
   "outputs": [
    {
     "data": {
      "text/plain": [
       "'Do not forget to buy milk today.'"
      ]
     },
     "execution_count": 4,
     "metadata": {},
     "output_type": "execute_result"
    }
   ],
   "source": [
    "striphtml(text1)"
   ]
  },
  {
   "cell_type": "markdown",
   "id": "75a07231",
   "metadata": {},
   "source": [
    "# emoji"
   ]
  },
  {
   "cell_type": "code",
   "execution_count": 5,
   "id": "2ad30fcf",
   "metadata": {},
   "outputs": [],
   "source": [
    "emoji_text = 'Copy and paste emojis for WhatsApp and more. 😃💁 People • 🐻🌻 Animals • 🍔🍹 Food • 🎷⚽️ Activities'"
   ]
  },
  {
   "cell_type": "code",
   "execution_count": 6,
   "id": "03452352",
   "metadata": {},
   "outputs": [],
   "source": [
    "no_emoji = emoji_text.encode('utf-8')"
   ]
  },
  {
   "cell_type": "code",
   "execution_count": 7,
   "id": "9ee1e0c7",
   "metadata": {},
   "outputs": [
    {
     "data": {
      "text/plain": [
       "b'Copy and paste emojis for WhatsApp and more. \\xf0\\x9f\\x98\\x83\\xf0\\x9f\\x92\\x81 People \\xe2\\x80\\xa2 \\xf0\\x9f\\x90\\xbb\\xf0\\x9f\\x8c\\xbb Animals \\xe2\\x80\\xa2 \\xf0\\x9f\\x8d\\x94\\xf0\\x9f\\x8d\\xb9 Food \\xe2\\x80\\xa2 \\xf0\\x9f\\x8e\\xb7\\xe2\\x9a\\xbd\\xef\\xb8\\x8f Activities'"
      ]
     },
     "execution_count": 7,
     "metadata": {},
     "output_type": "execute_result"
    }
   ],
   "source": [
    "no_emoji"
   ]
  },
  {
   "cell_type": "markdown",
   "id": "503de7fb",
   "metadata": {},
   "source": [
    "# spelling check"
   ]
  },
  {
   "cell_type": "code",
   "execution_count": 8,
   "id": "d13ccd19",
   "metadata": {},
   "outputs": [],
   "source": [
    "incorrect_text = 'i waannt too go to sckool, but i hava hedeche.'"
   ]
  },
  {
   "cell_type": "code",
   "execution_count": 9,
   "id": "376922de",
   "metadata": {},
   "outputs": [],
   "source": [
    "from textblob import TextBlob"
   ]
  },
  {
   "cell_type": "code",
   "execution_count": 10,
   "id": "1ccb46ea",
   "metadata": {},
   "outputs": [],
   "source": [
    "textBlb = TextBlob(incorrect_text)"
   ]
  },
  {
   "cell_type": "code",
   "execution_count": 13,
   "id": "e21be08c",
   "metadata": {},
   "outputs": [],
   "source": [
    "text_correct =textBlb.correct()"
   ]
  },
  {
   "cell_type": "code",
   "execution_count": 14,
   "id": "fc0f7678",
   "metadata": {},
   "outputs": [
    {
     "data": {
      "text/plain": [
       "TextBlob(\"i want too go to school, but i have headache.\")"
      ]
     },
     "execution_count": 14,
     "metadata": {},
     "output_type": "execute_result"
    }
   ],
   "source": [
    "text_correct"
   ]
  },
  {
   "cell_type": "code",
   "execution_count": null,
   "id": "bff59888",
   "metadata": {},
   "outputs": [],
   "source": []
  }
 ],
 "metadata": {
  "kernelspec": {
   "display_name": "Python 3 (ipykernel)",
   "language": "python",
   "name": "python3"
  },
  "language_info": {
   "codemirror_mode": {
    "name": "ipython",
    "version": 3
   },
   "file_extension": ".py",
   "mimetype": "text/x-python",
   "name": "python",
   "nbconvert_exporter": "python",
   "pygments_lexer": "ipython3",
   "version": "3.9.12"
  }
 },
 "nbformat": 4,
 "nbformat_minor": 5
}
