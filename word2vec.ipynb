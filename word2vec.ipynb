{
 "cells": [
  {
   "cell_type": "code",
   "execution_count": 1,
   "id": "8599fcf6",
   "metadata": {},
   "outputs": [],
   "source": [
    "import numpy as np"
   ]
  },
  {
   "cell_type": "code",
   "execution_count": 2,
   "id": "167f1b5e",
   "metadata": {},
   "outputs": [],
   "source": [
    "import pandas as pd"
   ]
  },
  {
   "cell_type": "code",
   "execution_count": 3,
   "id": "d08dc50c",
   "metadata": {},
   "outputs": [
    {
     "name": "stdout",
     "output_type": "stream",
     "text": [
      "Defaulting to user installation because normal site-packages is not writeable\n",
      "Requirement already satisfied: gensim in c:\\programdata\\anaconda3\\lib\\site-packages (4.1.2)\n",
      "Requirement already satisfied: numpy>=1.17.0 in c:\\programdata\\anaconda3\\lib\\site-packages (from gensim) (1.21.5)\n",
      "Requirement already satisfied: scipy>=0.18.1 in c:\\programdata\\anaconda3\\lib\\site-packages (from gensim) (1.7.3)\n",
      "Requirement already satisfied: smart-open>=1.8.1 in c:\\programdata\\anaconda3\\lib\\site-packages (from gensim) (5.1.0)\n"
     ]
    }
   ],
   "source": [
    "!pip install gensim"
   ]
  },
  {
   "cell_type": "code",
   "execution_count": 4,
   "id": "5a398eab",
   "metadata": {},
   "outputs": [],
   "source": [
    "import gensim\n",
    "import os"
   ]
  },
  {
   "cell_type": "code",
   "execution_count": 7,
   "id": "f92cf363",
   "metadata": {},
   "outputs": [],
   "source": [
    "from nltk import sent_tokenize\n",
    "from gensim.utils import simple_preprocess\n",
    "\n",
    "story = []\n",
    "for filename in os.listdir('model'):\n",
    "    \n",
    "    f = open(os.path.join('model',filename))\n",
    "    corpus = f.read()\n",
    "    raw_sent = sent_tokenize(corpus)\n",
    "    for sent in raw_sent:\n",
    "        story.append(simple_preprocess(sent))\n",
    "    \n"
   ]
  },
  {
   "cell_type": "code",
   "execution_count": 8,
   "id": "eb509955",
   "metadata": {},
   "outputs": [
    {
     "data": {
      "text/plain": [
       "141218"
      ]
     },
     "execution_count": 8,
     "metadata": {},
     "output_type": "execute_result"
    }
   ],
   "source": [
    "len(story)"
   ]
  },
  {
   "cell_type": "code",
   "execution_count": 9,
   "id": "efdf31fc",
   "metadata": {},
   "outputs": [],
   "source": [
    "model = gensim.models.Word2Vec(\n",
    "    window=10,\n",
    "    min_count=2\n",
    ")"
   ]
  },
  {
   "cell_type": "code",
   "execution_count": 10,
   "id": "939b0a3b",
   "metadata": {},
   "outputs": [],
   "source": [
    "model.build_vocab(story)"
   ]
  },
  {
   "cell_type": "code",
   "execution_count": 11,
   "id": "12219e80",
   "metadata": {},
   "outputs": [
    {
     "data": {
      "text/plain": [
       "(6570068, 8628190)"
      ]
     },
     "execution_count": 11,
     "metadata": {},
     "output_type": "execute_result"
    }
   ],
   "source": [
    "model.train(story, total_examples=model.corpus_count, epochs=model.epochs)"
   ]
  },
  {
   "cell_type": "code",
   "execution_count": 12,
   "id": "8c94e3d4",
   "metadata": {},
   "outputs": [
    {
     "data": {
      "text/plain": [
       "[('stormborn', 0.8102196455001831),\n",
       " ('targaryen', 0.7598291039466858),\n",
       " ('viserys', 0.7341384887695312),\n",
       " ('unburnt', 0.7062681913375854),\n",
       " ('princess', 0.6988520622253418),\n",
       " ('myrcella', 0.6905965209007263),\n",
       " ('shireen', 0.6605846285820007),\n",
       " ('queen', 0.6570795178413391),\n",
       " ('rhaegar', 0.6463292837142944),\n",
       " ('margaery', 0.645855724811554)]"
      ]
     },
     "execution_count": 12,
     "metadata": {},
     "output_type": "execute_result"
    }
   ],
   "source": [
    "model.wv.most_similar('daenerys')"
   ]
  },
  {
   "cell_type": "code",
   "execution_count": 13,
   "id": "c8a2f566",
   "metadata": {},
   "outputs": [
    {
     "data": {
      "text/plain": [
       "'jon'"
      ]
     },
     "execution_count": 13,
     "metadata": {},
     "output_type": "execute_result"
    }
   ],
   "source": [
    "model.wv.doesnt_match(['jon','rikon','robb','arya','sansa','bran'])"
   ]
  },
  {
   "cell_type": "code",
   "execution_count": 14,
   "id": "cd190751",
   "metadata": {},
   "outputs": [
    {
     "data": {
      "text/plain": [
       "0.8441433"
      ]
     },
     "execution_count": 14,
     "metadata": {},
     "output_type": "execute_result"
    }
   ],
   "source": [
    "model.wv.similarity('arya','sansa')"
   ]
  },
  {
   "cell_type": "code",
   "execution_count": 15,
   "id": "4ed14500",
   "metadata": {},
   "outputs": [
    {
     "data": {
      "text/plain": [
       "0.21811512"
      ]
     },
     "execution_count": 15,
     "metadata": {},
     "output_type": "execute_result"
    }
   ],
   "source": [
    "model.wv.similarity('tywin','sansa')"
   ]
  },
  {
   "cell_type": "code",
   "execution_count": 16,
   "id": "09c8868a",
   "metadata": {},
   "outputs": [
    {
     "data": {
      "text/plain": [
       "array([[-0.12842837, -0.04489756,  0.06996278, ..., -0.09237766,\n",
       "        -0.01267789,  0.12164954],\n",
       "       [-0.04713496, -0.16459556,  0.07188514, ..., -0.07234748,\n",
       "        -0.02144034,  0.12862237],\n",
       "       [ 0.10435884, -0.13301848, -0.18169573, ..., -0.10279512,\n",
       "         0.07654548, -0.15469815],\n",
       "       ...,\n",
       "       [ 0.03554112,  0.05658768, -0.09712871, ...,  0.01135808,\n",
       "         0.02338971, -0.12818871],\n",
       "       [-0.04418836,  0.12411224,  0.14411929, ...,  0.01567487,\n",
       "         0.0580485 , -0.02477572],\n",
       "       [-0.05354625,  0.08825365,  0.11555437, ..., -0.01076146,\n",
       "         0.05471559, -0.07676918]], dtype=float32)"
      ]
     },
     "execution_count": 16,
     "metadata": {},
     "output_type": "execute_result"
    }
   ],
   "source": [
    "model.wv.get_normed_vectors()"
   ]
  },
  {
   "cell_type": "code",
   "execution_count": 17,
   "id": "a985b5d0",
   "metadata": {},
   "outputs": [],
   "source": [
    "y = model.wv.index_to_key"
   ]
  },
  {
   "cell_type": "code",
   "execution_count": 18,
   "id": "1ad309c9",
   "metadata": {},
   "outputs": [
    {
     "data": {
      "text/plain": [
       "17453"
      ]
     },
     "execution_count": 18,
     "metadata": {},
     "output_type": "execute_result"
    }
   ],
   "source": [
    "len(y)"
   ]
  },
  {
   "cell_type": "code",
   "execution_count": 19,
   "id": "ff8c0c8d",
   "metadata": {},
   "outputs": [
    {
     "data": {
      "text/plain": [
       "[('such', 0.6738219857215881),\n",
       " ('kind', 0.6363640427589417),\n",
       " ('true', 0.6341204643249512),\n",
       " ('fit', 0.6332165598869324),\n",
       " ('yours', 0.6130676865577698),\n",
       " ('clever', 0.6084292531013489),\n",
       " ('wise', 0.6002935171127319),\n",
       " ('price', 0.5856985449790955),\n",
       " ('worth', 0.5827234983444214),\n",
       " ('certain', 0.5791985392570496)]"
      ]
     },
     "execution_count": 19,
     "metadata": {},
     "output_type": "execute_result"
    }
   ],
   "source": [
    "model.wv.most_similar('good')"
   ]
  },
  {
   "cell_type": "code",
   "execution_count": null,
   "id": "e34928d8",
   "metadata": {},
   "outputs": [],
   "source": []
  }
 ],
 "metadata": {
  "kernelspec": {
   "display_name": "Python 3 (ipykernel)",
   "language": "python",
   "name": "python3"
  },
  "language_info": {
   "codemirror_mode": {
    "name": "ipython",
    "version": 3
   },
   "file_extension": ".py",
   "mimetype": "text/x-python",
   "name": "python",
   "nbconvert_exporter": "python",
   "pygments_lexer": "ipython3",
   "version": "3.9.12"
  }
 },
 "nbformat": 4,
 "nbformat_minor": 5
}
